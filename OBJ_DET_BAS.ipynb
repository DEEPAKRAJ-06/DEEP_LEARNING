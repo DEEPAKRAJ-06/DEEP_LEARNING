{
  "metadata": {
    "kernelspec": {
      "language": "python",
      "display_name": "Python 3",
      "name": "python3"
    },
    "language_info": {
      "name": "python",
      "version": "3.10.14",
      "mimetype": "text/x-python",
      "codemirror_mode": {
        "name": "ipython",
        "version": 3
      },
      "pygments_lexer": "ipython3",
      "nbconvert_exporter": "python",
      "file_extension": ".py"
    },
    "kaggle": {
      "accelerator": "none",
      "dataSources": [],
      "dockerImageVersionId": 30761,
      "isInternetEnabled": true,
      "language": "python",
      "sourceType": "notebook",
      "isGpuEnabled": false
    },
    "colab": {
      "name": "OBJ_DET_BAS",
      "provenance": []
    }
  },
  "nbformat_minor": 0,
  "nbformat": 4,
  "cells": [
    {
      "cell_type": "code",
      "source": [
        "import torch\n",
        "from torchvision.models.detection import fasterrcnn_resnet50_fpn\n",
        "from torchvision.datasets import VOCDetection\n",
        "import torchvision.transforms as T\n",
        "from torch.utils.data import DataLoader\n",
        "import random\n",
        "import matplotlib.pyplot as plt\n",
        "import numpy as np\n",
        "\n"
      ],
      "metadata": {
        "execution": {
          "iopub.status.busy": "2024-09-12T17:20:50.570329Z",
          "iopub.execute_input": "2024-09-12T17:20:50.570776Z",
          "iopub.status.idle": "2024-09-12T17:20:50.577914Z",
          "shell.execute_reply.started": "2024-09-12T17:20:50.570733Z",
          "shell.execute_reply": "2024-09-12T17:20:50.576459Z"
        },
        "trusted": true,
        "id": "2k4Nkn-_TqFt"
      },
      "execution_count": null,
      "outputs": []
    },
    {
      "cell_type": "code",
      "source": [
        "device = torch.device('cuda' if torch.cuda.is_available() else 'cpu')\n",
        "\n",
        "model = fasterrcnn_resnet50_fpn(pretrained=True)\n",
        "model = model.to(device)\n",
        "model.eval()\n",
        "\n"
      ],
      "metadata": {
        "execution": {
          "iopub.status.busy": "2024-09-12T17:16:41.524401Z",
          "iopub.execute_input": "2024-09-12T17:16:41.525006Z",
          "iopub.status.idle": "2024-09-12T17:16:50.091546Z",
          "shell.execute_reply.started": "2024-09-12T17:16:41.524958Z",
          "shell.execute_reply": "2024-09-12T17:16:50.090336Z"
        },
        "trusted": true,
        "id": "1R5d8cmkTqFz"
      },
      "execution_count": null,
      "outputs": []
    },
    {
      "cell_type": "code",
      "source": [
        "transform = T.Compose([T.ToTensor()])\n",
        "dataset = VOCDetection(root='./data', year='2012', image_set='train', download=True, transform=transform)\n",
        "dataloader = DataLoader(dataset, batch_size=1, shuffle=True)\n",
        "\n",
        "images, targets = next(iter(dataloader))\n",
        "\n",
        "images = [image.to(device) for image in images]\n",
        "\n",
        "with torch.no_grad():\n",
        "    predictions = model(images)\n",
        "\n",
        "def visualize_prediction(image, prediction):\n",
        "    plt.figure(figsize=(10, 10))\n",
        "    image_np = image.cpu().numpy().transpose(1, 2, 0)\n",
        "    plt.imshow(image_np)\n",
        "\n",
        "    for box, label, score in zip(prediction['boxes'], prediction['labels'], prediction['scores']):\n",
        "        if score > 0.5:\n",
        "            x1, y1, x2, y2 = box.cpu().numpy()\n",
        "            plt.gca().add_patch(plt.Rectangle((x1, y1), x2 - x1, y2 - y1,\n",
        "                                              fill=False, color='red', linewidth=2))\n",
        "            plt.text(x1, y1, f'Label: {label} Score: {score:.2f}', color='yellow', fontsize=12)\n",
        "\n",
        "    plt.show()\n",
        "\n",
        "\n",
        "visualize_prediction(images[0], predictions[0])\n"
      ],
      "metadata": {
        "execution": {
          "iopub.status.busy": "2024-09-12T17:23:00.671489Z",
          "iopub.execute_input": "2024-09-12T17:23:00.674001Z",
          "iopub.status.idle": "2024-09-12T17:23:47.788907Z",
          "shell.execute_reply.started": "2024-09-12T17:23:00.673927Z",
          "shell.execute_reply": "2024-09-12T17:23:47.787536Z"
        },
        "trusted": true,
        "id": "2MNFA4LgTqF2"
      },
      "execution_count": null,
      "outputs": []
    },
    {
      "cell_type": "code",
      "source": [],
      "metadata": {
        "id": "5Kcow6XRTqF3"
      },
      "execution_count": null,
      "outputs": []
    }
  ]
}